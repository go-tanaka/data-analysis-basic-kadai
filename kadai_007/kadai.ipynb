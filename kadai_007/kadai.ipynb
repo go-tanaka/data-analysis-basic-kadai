{
  "nbformat": 4,
  "nbformat_minor": 0,
  "metadata": {
    "colab": {
      "provenance": []
    },
    "kernelspec": {
      "name": "python3",
      "display_name": "Python 3"
    },
    "language_info": {
      "name": "python"
    }
  },
  "cells": [
    {
      "cell_type": "code",
      "source": [
        "# 必要なライブラリのインストール\n",
        "!pip install japanize-matplotlib\n",
        "\n",
        "# ライブラリのインポート\n",
        "import matplotlib.pyplot as plt\n",
        "import pandas as pd\n",
        "import japanize_matplotlib\n",
        "\n",
        "# データフレームの作成（ここではサンプルデータを使用）\n",
        "data = {\n",
        "    '発注日': ['2016-03-06', '2017-05-31', '2021-12-11', '2016-09-15', '2024-01-18'],\n",
        "    '商品番号': ['YY4HAAZR', 'YY4HAAZR', 'YY4HAAZR', 'YY4HAAZR', 'YY4HAAZR'],\n",
        "    '商品名': ['商品サンプル YY4HAAZR'] * 5,\n",
        "    '単価': [780, 780, 780, 780, 780],\n",
        "    '在庫': [20, 20, 10, 5, 5],\n",
        "    '注文数': [24, 50, 36, 24, 24],\n",
        "    'カテゴリー': ['弁当', '弁当', '弁当', '弁当', '弁当']\n",
        "}\n",
        "df = pd.DataFrame(data)\n",
        "\n",
        "# カテゴリー列のユニークな出現頻度をカウントして棒グラフ化\n",
        "category_counts = df['カテゴリー'].value_counts()\n",
        "category_counts.plot(kind='bar')\n",
        "\n",
        "# グラフの表示\n",
        "plt.show()\n",
        "\n",
        "# 商品番号ごとに単価を集計し、基本統計量を算出\n",
        "grouped_sum = df.groupby('商品番号')['単価'].sum()\n",
        "print(grouped_sum)\n",
        "\n",
        "grouped_stats = df.groupby('商品番号')['単価'].describe()\n",
        "print(grouped_stats)"
      ],
      "metadata": {
        "colab": {
          "base_uri": "https://localhost:8080/",
          "height": 794
        },
        "id": "FwdAUWjFI9qt",
        "outputId": "22b86591-2c00-4768-985f-65392d6c8424"
      },
      "execution_count": 3,
      "outputs": [
        {
          "output_type": "stream",
          "name": "stdout",
          "text": [
            "Requirement already satisfied: japanize-matplotlib in /usr/local/lib/python3.10/dist-packages (1.1.3)\n",
            "Requirement already satisfied: matplotlib in /usr/local/lib/python3.10/dist-packages (from japanize-matplotlib) (3.7.1)\n",
            "Requirement already satisfied: contourpy>=1.0.1 in /usr/local/lib/python3.10/dist-packages (from matplotlib->japanize-matplotlib) (1.2.1)\n",
            "Requirement already satisfied: cycler>=0.10 in /usr/local/lib/python3.10/dist-packages (from matplotlib->japanize-matplotlib) (0.12.1)\n",
            "Requirement already satisfied: fonttools>=4.22.0 in /usr/local/lib/python3.10/dist-packages (from matplotlib->japanize-matplotlib) (4.53.1)\n",
            "Requirement already satisfied: kiwisolver>=1.0.1 in /usr/local/lib/python3.10/dist-packages (from matplotlib->japanize-matplotlib) (1.4.5)\n",
            "Requirement already satisfied: numpy>=1.20 in /usr/local/lib/python3.10/dist-packages (from matplotlib->japanize-matplotlib) (1.25.2)\n",
            "Requirement already satisfied: packaging>=20.0 in /usr/local/lib/python3.10/dist-packages (from matplotlib->japanize-matplotlib) (24.1)\n",
            "Requirement already satisfied: pillow>=6.2.0 in /usr/local/lib/python3.10/dist-packages (from matplotlib->japanize-matplotlib) (9.4.0)\n",
            "Requirement already satisfied: pyparsing>=2.3.1 in /usr/local/lib/python3.10/dist-packages (from matplotlib->japanize-matplotlib) (3.1.2)\n",
            "Requirement already satisfied: python-dateutil>=2.7 in /usr/local/lib/python3.10/dist-packages (from matplotlib->japanize-matplotlib) (2.8.2)\n",
            "Requirement already satisfied: six>=1.5 in /usr/local/lib/python3.10/dist-packages (from python-dateutil>=2.7->matplotlib->japanize-matplotlib) (1.16.0)\n"
          ]
        },
        {
          "output_type": "display_data",
          "data": {
            "text/plain": [
              "<Figure size 640x480 with 1 Axes>"
            ],
            "image/png": "[encoded data removed]"
          },
          "metadata": {}
        },
        {
          "output_type": "stream",
          "name": "stdout",
          "text": [
            "商品番号\n",
            "YY4HAAZR    3900\n",
            "Name: 単価, dtype: int64\n",
            "          count   mean  std    min    25%    50%    75%    max\n",
            "商品番号                                                          \n",
            "YY4HAAZR    5.0  780.0  0.0  780.0  780.0  780.0  780.0  780.0\n"
          ]
        }
      ]
    },
    {
      "cell_type": "code",
      "source": [],
      "metadata": {
        "id": "PhDXeavhI9t0"
      },
      "execution_count": null,
      "outputs": []
    },
    {
      "cell_type": "code",
      "source": [],
      "metadata": {
        "id": "5af-T8PYI9wd"
      },
      "execution_count": null,
      "outputs": []
    }
  ]
}