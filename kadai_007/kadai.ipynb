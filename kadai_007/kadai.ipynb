{
  "nbformat": 4,
  "nbformat_minor": 0,
  "metadata": {
    "colab": {
      "provenance": []
    },
    "kernelspec": {
      "name": "python3",
      "display_name": "Python 3"
    },
    "language_info": {
      "name": "python"
    }
  },
  "cells": [
    {
      "cell_type": "code",
      "source": [
        "# 必要なライブラリのインストール (必要な場合)\n",
        "!pip install japanize-matplotlib\n",
        "\n",
        "# 必要なライブラリのインポート\n",
        "import pandas as pd\n",
        "import matplotlib.pyplot as plt\n",
        "import japanize_matplotlib\n",
        "\n",
        "# サンプルデータフレームの作成（既存のデータフレームを使用する場合はこの部分は不要）\n",
        "data = {\n",
        "    '発注日': ['2016-03-06', '2017-05-31', '2021-12-11', '2016-09-15', '2024-01-18', '2019-04-29', '2022-11-10', '2017-05-08', '2019-03-10', '2022-05-15'],\n",
        "    '商品番号': ['YY4HAAZR', 'YY4HAAZR', 'YY4HAAZR', 'YY4HAAZR', 'YY4HAAZR', '2HSTCDWM', '2HSTCDWM', '2HSTCDWM', '2HSTCDWM', '2HSTCDWM'],\n",
        "    '商品名': ['商品サンプル YY4HAAZR', '商品サンプル YY4HAAZR', '商品サンプル YY4HAAZR', '商品サンプル YY4HAAZR', '商品サンプル YY4HAAZR', '商品サンプル 2HSTCDWM', '商品サンプル 2HSTCDWM', '商品サンプル 2HSTCDWM', '商品サンプル 2HSTCDWM', '商品サンプル 2HSTCDWM'],\n",
        "    '単価': [780, 780, 780, 780, 780, 300, 300, 300, 300, 300],\n",
        "    '在庫': [20, 20, 10, 5, 5, 10, 45, 30, 40, 35],\n",
        "    '注文数': [24, 50, 36, 24, 24, 48, 42, 40, 24, 12],\n",
        "    'カテゴリー': ['弁当', '弁当', '弁当', '弁当', '弁当', 'デザート', 'デザート', 'デザート', 'デザート', 'デザート']\n",
        "}\n",
        "df = pd.DataFrame(data)\n",
        "\n",
        "# Step 2: カテゴリー列の要素の出現頻度をカウントして棒グラフ化\n",
        "category_counts = df['カテゴリー'].value_counts()\n",
        "category_counts.plot(kind='bar')\n",
        "\n",
        "# グラフのタイトルとラベルを設定\n",
        "plt.title('カテゴリーの出現頻度')\n",
        "plt.xlabel('カテゴリー')\n",
        "plt.ylabel('出現頻度')\n",
        "\n",
        "# Step 3: グラフの表示\n",
        "plt.show()\n",
        "\n",
        "# Step 4: 商品番号ごとに注文数の基本統計量を求める\n",
        "order_stats = df.groupby('商品番号')['注文数'].describe()\n",
        "print(order_stats)"
      ],
      "metadata": {
        "id": "5af-T8PYI9wd",
        "colab": {
          "base_uri": "https://localhost:8080/",
          "height": 790
        },
        "outputId": "44df9ded-88ce-42b1-b8b6-14d9edebfa38"
      },
      "execution_count": 3,
      "outputs": [
        {
          "output_type": "stream",
          "name": "stdout",
          "text": [
            "Requirement already satisfied: japanize-matplotlib in /usr/local/lib/python3.10/dist-packages (1.1.3)\n",
            "Requirement already satisfied: matplotlib in /usr/local/lib/python3.10/dist-packages (from japanize-matplotlib) (3.7.1)\n",
            "Requirement already satisfied: contourpy>=1.0.1 in /usr/local/lib/python3.10/dist-packages (from matplotlib->japanize-matplotlib) (1.2.1)\n",
            "Requirement already satisfied: cycler>=0.10 in /usr/local/lib/python3.10/dist-packages (from matplotlib->japanize-matplotlib) (0.12.1)\n",
            "Requirement already satisfied: fonttools>=4.22.0 in /usr/local/lib/python3.10/dist-packages (from matplotlib->japanize-matplotlib) (4.53.1)\n",
            "Requirement already satisfied: kiwisolver>=1.0.1 in /usr/local/lib/python3.10/dist-packages (from matplotlib->japanize-matplotlib) (1.4.5)\n",
            "Requirement already satisfied: numpy>=1.20 in /usr/local/lib/python3.10/dist-packages (from matplotlib->japanize-matplotlib) (1.25.2)\n",
            "Requirement already satisfied: packaging>=20.0 in /usr/local/lib/python3.10/dist-packages (from matplotlib->japanize-matplotlib) (24.1)\n",
            "Requirement already satisfied: pillow>=6.2.0 in /usr/local/lib/python3.10/dist-packages (from matplotlib->japanize-matplotlib) (9.4.0)\n",
            "Requirement already satisfied: pyparsing>=2.3.1 in /usr/local/lib/python3.10/dist-packages (from matplotlib->japanize-matplotlib) (3.1.2)\n",
            "Requirement already satisfied: python-dateutil>=2.7 in /usr/local/lib/python3.10/dist-packages (from matplotlib->japanize-matplotlib) (2.8.2)\n",
            "Requirement already satisfied: six>=1.5 in /usr/local/lib/python3.10/dist-packages (from python-dateutil>=2.7->matplotlib->japanize-matplotlib) (1.16.0)\n"
          ]
        },
        {
          "output_type": "display_data",
          "data": {
            "text/plain": [
              "<Figure size 640x480 with 1 Axes>"
            ],
            "image/png": "[encoded data removed]"
          },
          "metadata": {}
        },
        {
          "output_type": "stream",
          "name": "stdout",
          "text": [
            "          count  mean        std   min   25%   50%   75%   max\n",
            "商品番号                                                          \n",
            "2HSTCDWM    5.0  33.2  14.805404  12.0  24.0  40.0  42.0  48.0\n",
            "YY4HAAZR    5.0  31.6  11.523888  24.0  24.0  24.0  36.0  50.0\n"
          ]
        }
      ]
    }
  ]
}