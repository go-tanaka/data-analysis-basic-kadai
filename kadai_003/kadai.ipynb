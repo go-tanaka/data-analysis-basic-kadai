{
  "nbformat": 4,
  "nbformat_minor": 0,
  "metadata": {
    "colab": {
      "provenance": []
    },
    "kernelspec": {
      "name": "python3",
      "display_name": "Python 3"
    },
    "language_info": {
      "name": "python"
    }
  },
  "cells": [
    {
      "cell_type": "code",
      "execution_count": 1,
      "metadata": {
        "colab": {
          "base_uri": "https://localhost:8080/"
        },
        "id": "jBL5eoC-Hin5",
        "outputId": "85486916-54a5-4bbf-ea36-313ea7207a51"
      },
      "outputs": [
        {
          "output_type": "stream",
          "name": "stdout",
          "text": [
            "行列の積 C:\n",
            "[[ 4  5  6  7]\n",
            " [12 17 22 27]\n",
            " [20 29 38 47]]\n",
            "行列 C の要素の最大値: 47\n"
          ]
        }
      ],
      "source": [
        "import numpy as np\n",
        "\n",
        "# 行列 A と B の定義\n",
        "A = np.array([[0, 1], [2, 3], [4, 5]])\n",
        "B = np.array([[0, 1, 2, 3], [4, 5, 6, 7]])\n",
        "\n",
        "# 行列の積を計算\n",
        "C = np.dot(A, B)\n",
        "\n",
        "# 結果を表示\n",
        "print(\"行列の積 C:\")\n",
        "print(C)\n",
        "\n",
        "# 行列 C の要素の最大値を計算\n",
        "max_value = np.max(C)\n",
        "print(\"行列 C の要素の最大値:\", max_value)"
      ]
    },
    {
      "cell_type": "code",
      "source": [],
      "metadata": {
        "id": "30WkQuXxHk6L"
      },
      "execution_count": null,
      "outputs": []
    }
  ]
}