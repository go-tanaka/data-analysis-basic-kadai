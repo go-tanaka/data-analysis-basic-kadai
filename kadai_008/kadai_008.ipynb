{
  "nbformat": 4,
  "nbformat_minor": 0,
  "metadata": {
    "colab": {
      "provenance": []
    },
    "kernelspec": {
      "name": "python3",
      "display_name": "Python 3"
    },
    "language_info": {
      "name": "python"
    }
  },
  "cells": [
    {
      "cell_type": "code",
      "source": [
        "from sklearn.datasets import load_wine\n",
        "from sklearn.model_selection import train_test_split\n",
        "from sklearn.tree import DecisionTreeClassifier\n",
        "from sklearn.ensemble import RandomForestClassifier\n",
        "from sklearn.metrics import accuracy_score"
      ],
      "metadata": {
        "id": "RlvA_2khGttv"
      },
      "execution_count": 3,
      "outputs": []
    },
    {
      "cell_type": "code",
      "source": [
        "# ワインのデータセットをロード\n",
        "dataset = load_wine()\n",
        "X = dataset.data\n",
        "y = dataset.target\n",
        "\n",
        "# トレーニングデータとテストデータに分割\n",
        "X_train, X_test, y_train, y_test = train_test_split(X, y, test_size=0.3, random_state=3)"
      ],
      "metadata": {
        "id": "aqL86EM7HaFO"
      },
      "execution_count": 4,
      "outputs": []
    },
    {
      "cell_type": "code",
      "source": [
        "# 決定木モデルのインスタンス化\n",
        "decision_tree_model = DecisionTreeClassifier(random_state=3)\n",
        "\n",
        "# モデルの学習\n",
        "decision_tree_model.fit(X_train, y_train)\n",
        "\n",
        "# テストデータに対する予測\n",
        "y_pred_tree = decision_tree_model.predict(X_test)\n",
        "\n",
        "# 精度を計算\n",
        "accuracy_tree = accuracy_score(y_test, y_pred_tree)\n",
        "print(f\"決定木モデルの精度: {accuracy_tree}\")"
      ],
      "metadata": {
        "colab": {
          "base_uri": "https://localhost:8080/"
        },
        "id": "wteGGk6YHaIN",
        "outputId": "38fd5543-2f84-41f0-9bcd-4cd0d9df432c"
      },
      "execution_count": 5,
      "outputs": [
        {
          "output_type": "stream",
          "name": "stdout",
          "text": [
            "決定木モデルの精度: 0.9074074074074074\n"
          ]
        }
      ]
    },
    {
      "cell_type": "code",
      "source": [
        "# ランダムフォレストモデルのインスタンス化\n",
        "random_forest_model = RandomForestClassifier(random_state=3)\n",
        "\n",
        "# モデルの学習\n",
        "random_forest_model.fit(X_train, y_train)\n",
        "\n",
        "# テストデータに対する予測\n",
        "y_pred_rf = random_forest_model.predict(X_test)\n",
        "\n",
        "# 精度を計算\n",
        "accuracy_rf = accuracy_score(y_test, y_pred_rf)\n",
        "print(f\"ランダムフォレストモデルの精度: {accuracy_rf}\")"
      ],
      "metadata": {
        "colab": {
          "base_uri": "https://localhost:8080/"
        },
        "id": "Jaw2ih4UHaMZ",
        "outputId": "d7d20688-e0f4-45d8-817e-7394c8617a01"
      },
      "execution_count": 6,
      "outputs": [
        {
          "output_type": "stream",
          "name": "stdout",
          "text": [
            "ランダムフォレストモデルの精度: 0.9629629629629629\n"
          ]
        }
      ]
    },
    {
      "cell_type": "code",
      "source": [
        "print(f\"決定木モデルの精度: {accuracy_tree}\")\n",
        "print(f\"ランダムフォレストモデルの精度: {accuracy_rf}\")"
      ],
      "metadata": {
        "colab": {
          "base_uri": "https://localhost:8080/"
        },
        "id": "uQhn66wiHjEr",
        "outputId": "505718cb-dab7-4daa-ae1a-0be9635dc913"
      },
      "execution_count": 7,
      "outputs": [
        {
          "output_type": "stream",
          "name": "stdout",
          "text": [
            "決定木モデルの精度: 0.9074074074074074\n",
            "ランダムフォレストモデルの精度: 0.9629629629629629\n"
          ]
        }
      ]
    }
  ]
}